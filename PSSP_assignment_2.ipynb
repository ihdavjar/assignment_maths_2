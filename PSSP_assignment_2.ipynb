{
  "nbformat": 4,
  "nbformat_minor": 0,
  "metadata": {
    "colab": {
      "provenance": [],
      "collapsed_sections": [],
      "authorship_tag": "ABX9TyNgCvV+rbk4BMxHzpSkeegf",
      "include_colab_link": true
    },
    "kernelspec": {
      "name": "python3",
      "display_name": "Python 3"
    },
    "language_info": {
      "name": "python"
    }
  },
  "cells": [
    {
      "cell_type": "markdown",
      "metadata": {
        "id": "view-in-github",
        "colab_type": "text"
      },
      "source": [
        "<a href=\"https://colab.research.google.com/github/ihdavjar/assignment_maths_2/blob/main/PSSP_assignment_2.ipynb\" target=\"_parent\"><img src=\"https://colab.research.google.com/assets/colab-badge.svg\" alt=\"Open In Colab\"/></a>"
      ]
    },
    {
      "cell_type": "markdown",
      "source": [
        "**Sir please press the below run button to run the code.\n",
        "If you get any popup message then press run anyway.**\n",
        "**And ignore the fatal message**"
      ],
      "metadata": {
        "id": "Bfvy62K6C0qM"
      }
    },
    {
      "cell_type": "code",
      "execution_count": 16,
      "metadata": {
        "id": "HRY4382o2trW",
        "colab": {
          "base_uri": "https://localhost:8080/",
          "height": 352
        },
        "outputId": "51fc1a4f-10ea-4f1d-e16a-b2c811c89c09"
      },
      "outputs": [
        {
          "output_type": "stream",
          "name": "stdout",
          "text": [
            "fatal: destination path 'assignment_maths_2' already exists and is not an empty directory.\n",
            "Mean of the following data is: 6.38623595505618\n",
            "Median of the following data is: 6.25\n",
            "Mode of the following data is: 0.0\n",
            "Variance of the following data is: 15.073434146572396\n"
          ]
        },
        {
          "output_type": "display_data",
          "data": {
            "text/plain": [
              "<Figure size 432x288 with 1 Axes>"
            ],
            "image/png": "[encoded data removed]"
          },
          "metadata": {
            "needs_background": "light"
          }
        }
      ],
      "source": [
        "!git clone https://github.com/ihdavjar/assignment_maths_2.git\n",
        "import pandas as pd\n",
        "import numpy as np\n",
        "import matplotlib.pyplot as plt\n",
        "\n",
        "\n",
        "data=pd.read_excel(\"/content/assignment_maths_2/Minor_1_Marks.xlsx\",engine='openpyxl')\n",
        "\n",
        "n=np.shape(data)[0]\n",
        "\n",
        "#Now top of the excel sheet is the key name for first column\n",
        "marks=list(data[6.5])\n",
        "\n",
        "#As the first row was taken as key we would have to insert it again\n",
        "marks.append(6.5)\n",
        "\n",
        "marks.sort()\n",
        "\n",
        "#finding the mean of the distribution\n",
        "sum=0\n",
        "for i in range(0,n+1):\n",
        "    sum=sum+marks[i]\n",
        "mean=sum/(n+1)\n",
        "print(\"Mean of the following data is:\",mean)\n",
        "\n",
        "#finding the median of the distribution\n",
        "median=(marks[(n+1)//2-1]+marks[(n+1)//2])/2\n",
        "\n",
        "print(\"Median of the following data is:\",median)\n",
        "\n",
        "#finding the mode of the data\n",
        "count_each_marks={}\n",
        "l=[]\n",
        "for i in range(0,n+1):\n",
        "    count=0\n",
        "    for j in range(0,n+1):\n",
        "        if marks[i]==marks[j]:\n",
        "            count=count+1\n",
        "    if marks[i] not in l:\n",
        "        count_each_marks[marks[i]]=count\n",
        "    l.append(marks[i])\n",
        "\n",
        "l1=list(count_each_marks.values())\n",
        "l2=list(count_each_marks.keys())\n",
        "max_frequency=max(l1)\n",
        "\n",
        "for i in range(0,len(count_each_marks.keys())):\n",
        "    if count_each_marks[l2[i]]==max_frequency:\n",
        "        print(\"Mode of the following data is:\",l2[i])\n",
        "        break\n",
        "\n",
        "#finding the variance of the data \n",
        "square_sum=0\n",
        "for i in range(0,n+1):\n",
        "    square_sum=square_sum+(marks[i])**2\n",
        "\n",
        "variance=square_sum/(n+1)-(mean)**2\n",
        "print(\"Variance of the following data is:\",variance)\n",
        "\n",
        "#making a histogram\n",
        "plt.hist(marks,color=\"g\")\n",
        "plt.show()"
      ]
    }
  ]
}